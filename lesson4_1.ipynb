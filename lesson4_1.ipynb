{
 "cells": [
  {
   "cell_type": "code",
   "execution_count": 11,
   "metadata": {},
   "outputs": [
    {
     "name": "stdout",
     "output_type": "stream",
     "text": [
      "請輸入學生分數(最高300分):\n",
      "學生徐國堂分數為270\n"
     ]
    }
   ],
   "source": [
    "#學生總分為300\n",
    "import pyinputplus as pyip\n",
    "\n",
    "scores=pyip.inputInt(\"請輸入學生分數(最高300分):\")\n",
    "name=\"徐國堂\"\n",
    "print()\n",
    "if scores <=300:\n",
    "    print(f\"學生{name}分數為{scores}\")  #\\n等於換行  #f+{}等於字串插補\n",
    "else:\n",
    "    print(f\"豬頭,不可以超過300\")\n"
   ]
  },
  {
   "cell_type": "code",
   "execution_count": 15,
   "metadata": {},
   "outputs": [
    {
     "name": "stdout",
     "output_type": "stream",
     "text": [
      "請輸入學生分數(最高300分):Number must be at maximum 300.\n",
      "請輸入學生分數(最高300分):Number must be at minimum 0.\n",
      "請輸入學生分數(最高300分):\n",
      "學生徐國堂分數為270\n"
     ]
    }
   ],
   "source": [
    "#學生總分為300\n",
    "import pyinputplus as pyip\n",
    "\n",
    "scores=pyip.inputInt(\"請輸入學生分數(最高300分):\",min=0,max=300) #引述值依照順序，引述名稱可不依照順序   =前是引述名稱、=後是引述值\n",
    "name=\"徐國堂\"\n",
    "print()\n",
    "print(f\"學生{name}分數為{scores}\")  #\\n等於換行  #f+{}等於字串插補"
   ]
  },
  {
   "cell_type": "code",
   "execution_count": 20,
   "metadata": {},
   "outputs": [
    {
     "name": "stdout",
     "output_type": "stream",
     "text": [
      "Please select one of the following:\n",
      "* dog\n",
      "* cat\n",
      "* moose\n",
      "dog\n"
     ]
    }
   ],
   "source": [
    "result = pyip.inputMenu(['dog', 'cat', 'moose'])\n",
    "print(result)\n"
   ]
  },
  {
   "cell_type": "code",
   "execution_count": 28,
   "metadata": {},
   "outputs": [
    {
     "name": "stdout",
     "output_type": "stream",
     "text": [
      "請輸入學生分數(最高300分):270\n",
      "學生是否符合加分條件(請選擇1或2)?\n",
      "1. y\n",
      "2. n\n",
      "\n",
      "y\n"
     ]
    }
   ],
   "source": [
    "#學生總分為300\n",
    "#有些學生可以加分5%\n",
    "#如果加分超過300，就以300分為準\n",
    "\n",
    "import pyinputplus as pyip\n",
    "\n",
    "scores=pyip.inputInt(\"請輸入學生分數(最高300分):\",min=0,max=300)\n",
    "print(scores)\n",
    "isYes=pyip.inputMenu(['y','n'],prompt=\"學生是否符合加分條件(請選擇1或2)?\\n\",numbered=True) #說明書預設不出現1.2.3. 改true就會出現1.2.3.\n",
    "print()\n",
    "print(isYes)"
   ]
  },
  {
   "cell_type": "code",
   "execution_count": 2,
   "metadata": {},
   "outputs": [
    {
     "name": "stdout",
     "output_type": "stream",
     "text": [
      "請輸入學生分數(最高300分):Blank values are not allowed.\n",
      "請輸入學生分數(最高300分):200\n",
      "學生是否符合加分條件(請選擇1或2)?\n",
      "1. y\n",
      "2. n\n",
      "'200' is not a valid choice.\n",
      "學生是否符合加分條件(請選擇1或2)?\n",
      "1. y\n",
      "2. n\n",
      "學生分數為210.0\n"
     ]
    }
   ],
   "source": [
    "import pyinputplus as pyip\n",
    "\n",
    "scores=pyip.inputInt(\"請輸入學生分數(最高300分):\",min=0,max=300)\n",
    "print(scores)\n",
    "isYes=pyip.inputMenu(['y','n'],prompt=\"學生是否符合加分條件(請選擇1或2)?\\n\",numbered=True)\n",
    "\n",
    "\n",
    "#巢狀判斷=判斷裡面又有判斷\n",
    "if isYes == \"y\":\n",
    "    scores *=1.05  #單項選擇=有可能執行、有可能不執行\n",
    "    if scores>300:\n",
    "        scores=300\n",
    "print(f\"學生分數為{scores}\")"
   ]
  },
  {
   "cell_type": "code",
   "execution_count": 3,
   "metadata": {},
   "outputs": [
    {
     "name": "stdout",
     "output_type": "stream",
     "text": [
      "請輸入x值\n",
      "-1.7320508075688772\n"
     ]
    }
   ],
   "source": [
    "#巢狀選擇\n",
    "#如果X不是負數，則傳回值為X ** (1/y)。\n",
    "#如果X是負數而且為偶數，則傳回值為\"虛數\"。\n",
    "#如果X是負數而且為奇數，則傳回值為 -(-X)**(1/y)\n",
    "x = pyip.inputInt(\"請輸入x值\\n\") \n",
    "y = 2\n",
    "if x >=0:         #不是負數\n",
    "    root = x**(1/y)\n",
    "else:             #是負數\n",
    "    if x %2 ==0:\n",
    "        root = \"虛數\"\n",
    "    else: \n",
    "        root = -(-x)**(1/y)\n",
    "print(root)\n",
    "\n"
   ]
  },
  {
   "cell_type": "code",
   "execution_count": 10,
   "metadata": {},
   "outputs": [
    {
     "name": "stdout",
     "output_type": "stream",
     "text": [
      "甲\n"
     ]
    }
   ],
   "source": [
    "scores=79\n",
    "if scores<60:\n",
    "    print(\"不及格\")\n",
    "else:\n",
    "    if scores>80:\n",
    "        print(\"優\")\n",
    "    else:\n",
    "        print(\"甲\")"
   ]
  },
  {
   "cell_type": "code",
   "execution_count": 11,
   "metadata": {},
   "outputs": [
    {
     "name": "stdout",
     "output_type": "stream",
     "text": [
      "甲\n"
     ]
    }
   ],
   "source": [
    "scores=79\n",
    "if scores<60:\n",
    "    print(\"不及格\")\n",
    "elif scores>80:\n",
    "    print(\"優\")\n",
    "else:\n",
    "    print(\"甲\")"
   ]
  },
  {
   "cell_type": "code",
   "execution_count": 16,
   "metadata": {},
   "outputs": [
    {
     "name": "stdout",
     "output_type": "stream",
     "text": [
      "甲\n"
     ]
    }
   ],
   "source": [
    "scores=85\n",
    "\n",
    "if scores >=90:\n",
    "    print(\"優\")\n",
    "elif scores >=80:\n",
    "    print(\"甲\")\n",
    "elif scores >=70:\n",
    "    print(\"乙\")\n",
    "elif scores >=60:\n",
    "    print(\"丙\")\n",
    "else:\n",
    "    print(\"丁\")"
   ]
  },
  {
   "cell_type": "code",
   "execution_count": null,
   "metadata": {},
   "outputs": [],
   "source": []
  },
  {
   "cell_type": "code",
   "execution_count": null,
   "metadata": {},
   "outputs": [],
   "source": []
  },
  {
   "cell_type": "code",
   "execution_count": null,
   "metadata": {},
   "outputs": [],
   "source": []
  },
  {
   "cell_type": "code",
   "execution_count": null,
   "metadata": {},
   "outputs": [],
   "source": []
  },
  {
   "cell_type": "code",
   "execution_count": null,
   "metadata": {},
   "outputs": [],
   "source": []
  },
  {
   "cell_type": "code",
   "execution_count": null,
   "metadata": {},
   "outputs": [],
   "source": []
  },
  {
   "cell_type": "code",
   "execution_count": null,
   "metadata": {},
   "outputs": [],
   "source": []
  },
  {
   "cell_type": "code",
   "execution_count": null,
   "metadata": {},
   "outputs": [],
   "source": []
  },
  {
   "cell_type": "code",
   "execution_count": null,
   "metadata": {},
   "outputs": [],
   "source": []
  },
  {
   "cell_type": "code",
   "execution_count": null,
   "metadata": {},
   "outputs": [],
   "source": []
  },
  {
   "cell_type": "code",
   "execution_count": null,
   "metadata": {},
   "outputs": [],
   "source": []
  },
  {
   "cell_type": "code",
   "execution_count": null,
   "metadata": {},
   "outputs": [],
   "source": []
  },
  {
   "cell_type": "code",
   "execution_count": null,
   "metadata": {},
   "outputs": [],
   "source": []
  },
  {
   "cell_type": "code",
   "execution_count": null,
   "metadata": {},
   "outputs": [],
   "source": []
  },
  {
   "cell_type": "code",
   "execution_count": null,
   "metadata": {},
   "outputs": [],
   "source": []
  },
  {
   "cell_type": "code",
   "execution_count": null,
   "metadata": {},
   "outputs": [],
   "source": []
  },
  {
   "cell_type": "code",
   "execution_count": null,
   "metadata": {},
   "outputs": [],
   "source": []
  },
  {
   "cell_type": "code",
   "execution_count": null,
   "metadata": {},
   "outputs": [],
   "source": []
  },
  {
   "cell_type": "code",
   "execution_count": null,
   "metadata": {},
   "outputs": [],
   "source": []
  },
  {
   "cell_type": "code",
   "execution_count": null,
   "metadata": {},
   "outputs": [],
   "source": []
  },
  {
   "cell_type": "code",
   "execution_count": null,
   "metadata": {},
   "outputs": [],
   "source": []
  },
  {
   "cell_type": "code",
   "execution_count": null,
   "metadata": {},
   "outputs": [],
   "source": []
  },
  {
   "cell_type": "code",
   "execution_count": null,
   "metadata": {},
   "outputs": [],
   "source": []
  },
  {
   "cell_type": "code",
   "execution_count": null,
   "metadata": {},
   "outputs": [],
   "source": []
  },
  {
   "cell_type": "code",
   "execution_count": null,
   "metadata": {},
   "outputs": [],
   "source": []
  },
  {
   "cell_type": "code",
   "execution_count": null,
   "metadata": {},
   "outputs": [],
   "source": [
    "350"
   ]
  },
  {
   "cell_type": "code",
   "execution_count": null,
   "metadata": {},
   "outputs": [],
   "source": []
  },
  {
   "cell_type": "code",
   "execution_count": null,
   "metadata": {},
   "outputs": [],
   "source": []
  },
  {
   "cell_type": "code",
   "execution_count": null,
   "metadata": {},
   "outputs": [],
   "source": []
  },
  {
   "cell_type": "code",
   "execution_count": null,
   "metadata": {},
   "outputs": [],
   "source": []
  },
  {
   "cell_type": "code",
   "execution_count": null,
   "metadata": {},
   "outputs": [],
   "source": []
  },
  {
   "cell_type": "code",
   "execution_count": null,
   "metadata": {},
   "outputs": [],
   "source": []
  },
  {
   "cell_type": "code",
   "execution_count": null,
   "metadata": {},
   "outputs": [],
   "source": []
  },
  {
   "cell_type": "code",
   "execution_count": null,
   "metadata": {},
   "outputs": [],
   "source": []
  }
 ],
 "metadata": {
  "kernelspec": {
   "display_name": "Python 3",
   "language": "python",
   "name": "python3"
  },
  "language_info": {
   "codemirror_mode": {
    "name": "ipython",
    "version": 3
   },
   "file_extension": ".py",
   "mimetype": "text/x-python",
   "name": "python",
   "nbconvert_exporter": "python",
   "pygments_lexer": "ipython3",
   "version": "3.10.13"
  }
 },
 "nbformat": 4,
 "nbformat_minor": 2
}
