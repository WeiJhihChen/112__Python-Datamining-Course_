{
 "cells": [
  {
   "cell_type": "code",
   "execution_count": 12,
   "metadata": {},
   "outputs": [
    {
     "data": {
      "text/plain": [
       "5050"
      ]
     },
     "metadata": {},
     "output_type": "display_data"
    }
   ],
   "source": [
    "n=0\n",
    "for i in range(1,101):\n",
    "    n+=i\n",
    "display(n)"
   ]
  },
  {
   "cell_type": "code",
   "execution_count": 25,
   "metadata": {},
   "outputs": [
    {
     "name": "stdout",
     "output_type": "stream",
     "text": [
      "i=1\n",
      "j=123456789\n",
      "===============\n",
      "i=2\n",
      "j=123456789\n",
      "===============\n",
      "i=3\n",
      "j=123456789\n",
      "===============\n",
      "i=4\n",
      "j=123456789\n",
      "===============\n",
      "i=5\n",
      "j=123456789\n",
      "===============\n",
      "i=6\n",
      "j=123456789\n",
      "===============\n",
      "i=7\n",
      "j=123456789\n",
      "===============\n",
      "i=8\n",
      "j=123456789\n",
      "===============\n",
      "i=9\n",
      "j=123456789\n",
      "===============\n"
     ]
    }
   ],
   "source": [
    "for i in range(1,10):\n",
    "    print(f'i={i}') #字串插補 字串+變數，傳出一個全新的字串\n",
    "    print('j=',end='')  \n",
    "    for j in range(1,10):\n",
    "        print(f'{j}',end='')\n",
    "    print(\"\\n===============\")   "
   ]
  },
  {
   "cell_type": "code",
   "execution_count": 21,
   "metadata": {},
   "outputs": [
    {
     "name": "stdout",
     "output_type": "stream",
     "text": [
      "1 2 3 4 5 6 a\n",
      "1-2-3-4-5-6-a\n",
      "1-2-3-4-5-6?\n"
     ]
    }
   ],
   "source": [
    "print(1,2,3,4,5,6,'a')\n",
    "print(1,2,3,4,5,6,'a',sep='-')\n",
    "print(1,2,3,4,5,6,sep='-',end='?\\n')\n",
    "\n",
    "#print(*objects, sep=' ', end='\\n', file=None, flush=False)\n",
    "#*代表：沒有限定數量的引數位子呼叫\n",
    "#sep=seperate 顯示每個參數都空一格空白\n",
    "#參數有預設值的請使用引述名稱呼叫 =不要用你的預設值 #引述名稱不一定要照順序\n"
   ]
  },
  {
   "cell_type": "code",
   "execution_count": 30,
   "metadata": {},
   "outputs": [
    {
     "name": "stdout",
     "output_type": "stream",
     "text": [
      "1*1=1 1*2=2 1*3=3 1*4=4 1*5=5 1*6=6 1*7=7 1*8=8 1*9=9 \n",
      "2*1=2 2*2=4 2*3=6 2*4=8 2*5=10 2*6=12 2*7=14 2*8=16 2*9=18 \n",
      "3*1=3 3*2=6 3*3=9 3*4=12 3*5=15 3*6=18 3*7=21 3*8=24 3*9=27 \n",
      "4*1=4 4*2=8 4*3=12 4*4=16 4*5=20 4*6=24 4*7=28 4*8=32 4*9=36 \n",
      "5*1=5 5*2=10 5*3=15 5*4=20 5*5=25 5*6=30 5*7=35 5*8=40 5*9=45 \n",
      "6*1=6 6*2=12 6*3=18 6*4=24 6*5=30 6*6=36 6*7=42 6*8=48 6*9=54 \n",
      "7*1=7 7*2=14 7*3=21 7*4=28 7*5=35 7*6=42 7*7=49 7*8=56 7*9=63 \n",
      "8*1=8 8*2=16 8*3=24 8*4=32 8*5=40 8*6=48 8*7=56 8*8=64 8*9=72 \n",
      "9*1=9 9*2=18 9*3=27 9*4=36 9*5=45 9*6=54 9*7=63 9*8=72 9*9=81 \n"
     ]
    }
   ],
   "source": [
    "for i in range(1,10):\n",
    "    for j in range(1,10):\n",
    "        print(f'{i}*{j}={i*j}',end=' ')   #字串插補 字串+變數，傳出一個全新的字串\n",
    "    print()"
   ]
  },
  {
   "cell_type": "code",
   "execution_count": 1,
   "metadata": {},
   "outputs": [
    {
     "name": "stdout",
     "output_type": "stream",
     "text": [
      "1\n",
      "2\n",
      "3\n",
      "4\n",
      "5\n",
      "6\n",
      "7\n",
      "8\n",
      "9\n",
      "10\n"
     ]
    }
   ],
   "source": [
    "#1.建立一個變數\n",
    "#2.檢查變數\n",
    "#3.改變變數值\n",
    "#3->2，False就會跳出迴圈，一直Ture就會無限迴圈\n",
    "#可以用break打破無限迴圈\n",
    "\n",
    "import random \n",
    "\n",
    "n = 1\n",
    "while n<=10:  #True就繼續，只要有一次False就馬上跳出迴圈\n",
    "    print(n)\n",
    "    n += 1"
   ]
  },
  {
   "cell_type": "code",
   "execution_count": 3,
   "metadata": {},
   "outputs": [
    {
     "name": "stdout",
     "output_type": "stream",
     "text": [
      "1\n",
      "11\n",
      "20\n",
      "29\n",
      "38\n",
      "40\n",
      "41\n",
      "48\n",
      "50\n",
      "54\n",
      "64\n",
      "71\n",
      "81\n",
      "91\n"
     ]
    }
   ],
   "source": [
    "import random\n",
    "n = 1\n",
    "while n<=100:\n",
    "    print(n)\n",
    "    n += random.randint(1,10)"
   ]
  },
  {
   "cell_type": "code",
   "execution_count": 8,
   "metadata": {},
   "outputs": [
    {
     "name": "stdout",
     "output_type": "stream",
     "text": [
      "25\n",
      "2\n",
      "4\n",
      "25\n",
      "9\n",
      "9\n",
      "應用程式結束\n"
     ]
    }
   ],
   "source": [
    "#break、continue 跳出迴圈\n",
    "#奇數輸出平方\n",
    "#偶數輸出原來的值\n",
    "#'q'離開\n",
    "\n",
    "while True:\n",
    "    value=input(\"請輸入整數,輸入(q)離開:\")\n",
    "    if value ==\"q\":\n",
    "        break\n",
    "    value=int(value)\n",
    "    if value %2 ==1:\n",
    "        print(value **2)\n",
    "    else:\n",
    "        print(value)\n",
    "print(\"應用程式結束\")"
   ]
  },
  {
   "cell_type": "code",
   "execution_count": 17,
   "metadata": {},
   "outputs": [
    {
     "name": "stdout",
     "output_type": "stream",
     "text": [
      "應用程式結束\n",
      "總共執行5次\n",
      "6\n"
     ]
    }
   ],
   "source": [
    "#請設計一個程式，請使用者輸入數值，只有加總正偶數，不加總正奇數值，如果輸入負數，結束程式。\n",
    "\n",
    "total=0\n",
    "num=0\n",
    "while(True):\n",
    "    value=int(input(f\"請輸入第{num+1}數值:\")) #等於不會傳出值，因為等於是指定運算子\n",
    "    if value < 0:\n",
    "        break\n",
    "        print(\"break之後\")\n",
    "    elif value % 2 ==1:\n",
    "        num+=1\n",
    "        continue\n",
    "        print(\"break之後\")\n",
    "    else:\n",
    "        num+=1\n",
    "        total += value\n",
    "print(\"應用程式結束\") \n",
    "print(f\"總共執行{num}次\")\n",
    "print(total)"
   ]
  },
  {
   "cell_type": "code",
   "execution_count": null,
   "metadata": {},
   "outputs": [],
   "source": []
  },
  {
   "cell_type": "code",
   "execution_count": null,
   "metadata": {},
   "outputs": [],
   "source": []
  },
  {
   "cell_type": "code",
   "execution_count": null,
   "metadata": {},
   "outputs": [],
   "source": []
  },
  {
   "cell_type": "code",
   "execution_count": null,
   "metadata": {},
   "outputs": [],
   "source": []
  },
  {
   "cell_type": "code",
   "execution_count": null,
   "metadata": {},
   "outputs": [],
   "source": []
  },
  {
   "cell_type": "code",
   "execution_count": null,
   "metadata": {},
   "outputs": [],
   "source": []
  },
  {
   "cell_type": "code",
   "execution_count": null,
   "metadata": {},
   "outputs": [],
   "source": []
  },
  {
   "cell_type": "code",
   "execution_count": null,
   "metadata": {},
   "outputs": [],
   "source": []
  },
  {
   "cell_type": "code",
   "execution_count": null,
   "metadata": {},
   "outputs": [],
   "source": []
  },
  {
   "cell_type": "code",
   "execution_count": null,
   "metadata": {},
   "outputs": [],
   "source": []
  },
  {
   "cell_type": "code",
   "execution_count": null,
   "metadata": {},
   "outputs": [],
   "source": []
  },
  {
   "cell_type": "code",
   "execution_count": null,
   "metadata": {},
   "outputs": [],
   "source": []
  }
 ],
 "metadata": {
  "kernelspec": {
   "display_name": "Python 3",
   "language": "python",
   "name": "python3"
  },
  "language_info": {
   "codemirror_mode": {
    "name": "ipython",
    "version": 3
   },
   "file_extension": ".py",
   "mimetype": "text/x-python",
   "name": "python",
   "nbconvert_exporter": "python",
   "pygments_lexer": "ipython3",
   "version": "3.10.13"
  }
 },
 "nbformat": 4,
 "nbformat_minor": 2
}
