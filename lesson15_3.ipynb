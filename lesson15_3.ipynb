{
 "cells": [
  {
   "cell_type": "code",
   "execution_count": 32,
   "metadata": {},
   "outputs": [
    {
     "data": {
      "text/html": [
       "<div>\n",
       "<style scoped>\n",
       "    .dataframe tbody tr th:only-of-type {\n",
       "        vertical-align: middle;\n",
       "    }\n",
       "\n",
       "    .dataframe tbody tr th {\n",
       "        vertical-align: top;\n",
       "    }\n",
       "\n",
       "    .dataframe thead th {\n",
       "        text-align: right;\n",
       "    }\n",
       "</style>\n",
       "<table border=\"1\" class=\"dataframe\">\n",
       "  <thead>\n",
       "    <tr style=\"text-align: right;\">\n",
       "      <th></th>\n",
       "      <th>d</th>\n",
       "      <th>f</th>\n",
       "      <th>e</th>\n",
       "    </tr>\n",
       "  </thead>\n",
       "  <tbody>\n",
       "    <tr>\n",
       "      <th>台北</th>\n",
       "      <td>0.182571</td>\n",
       "      <td>-2.817002</td>\n",
       "      <td>-0.292654</td>\n",
       "    </tr>\n",
       "    <tr>\n",
       "      <th>台中</th>\n",
       "      <td>-1.273629</td>\n",
       "      <td>-1.345389</td>\n",
       "      <td>-0.944583</td>\n",
       "    </tr>\n",
       "    <tr>\n",
       "      <th>台南</th>\n",
       "      <td>0.585882</td>\n",
       "      <td>0.103765</td>\n",
       "      <td>-0.512375</td>\n",
       "    </tr>\n",
       "    <tr>\n",
       "      <th>高雄</th>\n",
       "      <td>-0.208790</td>\n",
       "      <td>1.605900</td>\n",
       "      <td>-0.398322</td>\n",
       "    </tr>\n",
       "  </tbody>\n",
       "</table>\n",
       "</div>"
      ],
      "text/plain": [
       "           d         f         e\n",
       "台北  0.182571 -2.817002 -0.292654\n",
       "台中 -1.273629 -1.345389 -0.944583\n",
       "台南  0.585882  0.103765 -0.512375\n",
       "高雄 -0.208790  1.605900 -0.398322"
      ]
     },
     "execution_count": 32,
     "metadata": {},
     "output_type": "execute_result"
    }
   ],
   "source": [
    "import numpy as np\n",
    "import pandas as pd\n",
    "\n",
    "frame = pd.DataFrame(np.random.randn(4,3), #4列3行\n",
    "            columns=['d','f','e'],\n",
    "            index=['台北','台中','台南','高雄']\n",
    "            )\n",
    "frame"
   ]
  },
  {
   "cell_type": "code",
   "execution_count": 33,
   "metadata": {},
   "outputs": [
    {
     "data": {
      "text/html": [
       "<div>\n",
       "<style scoped>\n",
       "    .dataframe tbody tr th:only-of-type {\n",
       "        vertical-align: middle;\n",
       "    }\n",
       "\n",
       "    .dataframe tbody tr th {\n",
       "        vertical-align: top;\n",
       "    }\n",
       "\n",
       "    .dataframe thead th {\n",
       "        text-align: right;\n",
       "    }\n",
       "</style>\n",
       "<table border=\"1\" class=\"dataframe\">\n",
       "  <thead>\n",
       "    <tr style=\"text-align: right;\">\n",
       "      <th></th>\n",
       "      <th>d</th>\n",
       "      <th>f</th>\n",
       "      <th>e</th>\n",
       "    </tr>\n",
       "  </thead>\n",
       "  <tbody>\n",
       "    <tr>\n",
       "      <th>台北</th>\n",
       "      <td>0.182571</td>\n",
       "      <td>2.817002</td>\n",
       "      <td>0.292654</td>\n",
       "    </tr>\n",
       "    <tr>\n",
       "      <th>台中</th>\n",
       "      <td>1.273629</td>\n",
       "      <td>1.345389</td>\n",
       "      <td>0.944583</td>\n",
       "    </tr>\n",
       "    <tr>\n",
       "      <th>台南</th>\n",
       "      <td>0.585882</td>\n",
       "      <td>0.103765</td>\n",
       "      <td>0.512375</td>\n",
       "    </tr>\n",
       "    <tr>\n",
       "      <th>高雄</th>\n",
       "      <td>0.208790</td>\n",
       "      <td>1.605900</td>\n",
       "      <td>0.398322</td>\n",
       "    </tr>\n",
       "  </tbody>\n",
       "</table>\n",
       "</div>"
      ],
      "text/plain": [
       "           d         f         e\n",
       "台北  0.182571  2.817002  0.292654\n",
       "台中  1.273629  1.345389  0.944583\n",
       "台南  0.585882  0.103765  0.512375\n",
       "高雄  0.208790  1.605900  0.398322"
      ]
     },
     "execution_count": 33,
     "metadata": {},
     "output_type": "execute_result"
    }
   ],
   "source": [
    "np.absolute(frame)"
   ]
  },
  {
   "cell_type": "code",
   "execution_count": 34,
   "metadata": {},
   "outputs": [
    {
     "name": "stdout",
     "output_type": "stream",
     "text": [
      "0.1825710714246592\n",
      "-1.2736288661250557\n",
      "0.5858819733816205\n",
      "-0.20879026424779212\n",
      "=======\n",
      "-2.817002480151096\n",
      "-1.3453886443312173\n",
      "0.10376515423541463\n",
      "1.6058997800419508\n",
      "=======\n",
      "-0.2926538768932552\n",
      "-0.9445834835778029\n",
      "-0.5123749822613445\n",
      "-0.39832249125554325\n",
      "=======\n"
     ]
    }
   ],
   "source": [
    "#使用for in 讀取DataFrame\n",
    "for column in frame:\n",
    "    for item in frame[column]:\n",
    "        print(item)\n",
    "    print(\"=======\")"
   ]
  },
  {
   "cell_type": "code",
   "execution_count": 35,
   "metadata": {},
   "outputs": [
    {
     "name": "stdout",
     "output_type": "stream",
     "text": [
      "台北    0.182571\n",
      "台中    1.273629\n",
      "台南    0.585882\n",
      "高雄    0.208790\n",
      "Name: d, dtype: float64\n",
      "台北    2.817002\n",
      "台中    1.345389\n",
      "台南    0.103765\n",
      "高雄    1.605900\n",
      "Name: f, dtype: float64\n",
      "台北    0.292654\n",
      "台中    0.944583\n",
      "台南    0.512375\n",
      "高雄    0.398322\n",
      "Name: e, dtype: float64\n"
     ]
    }
   ],
   "source": [
    "#使用for in 讀取DataFrame\n",
    "for column in frame:\n",
    "    print(np.abs(frame[column]))"
   ]
  },
  {
   "cell_type": "code",
   "execution_count": 36,
   "metadata": {},
   "outputs": [
    {
     "data": {
      "text/plain": [
       "d    0.585882\n",
       "f    1.605900\n",
       "e   -0.292654\n",
       "dtype: float64"
      ]
     },
     "execution_count": 36,
     "metadata": {},
     "output_type": "execute_result"
    }
   ],
   "source": [
    "np.max(frame,axis=0)"
   ]
  },
  {
   "cell_type": "code",
   "execution_count": 37,
   "metadata": {},
   "outputs": [
    {
     "data": {
      "text/plain": [
       "台北    0.182571\n",
       "台中   -0.944583\n",
       "台南    0.585882\n",
       "高雄    1.605900\n",
       "dtype: float64"
      ]
     },
     "execution_count": 37,
     "metadata": {},
     "output_type": "execute_result"
    }
   ],
   "source": [
    "np.max(frame,axis=1)"
   ]
  },
  {
   "cell_type": "code",
   "execution_count": 38,
   "metadata": {},
   "outputs": [
    {
     "data": {
      "text/plain": [
       "d    1.859511\n",
       "f    4.422902\n",
       "e    0.651930\n",
       "dtype: float64"
      ]
     },
     "execution_count": 38,
     "metadata": {},
     "output_type": "execute_result"
    }
   ],
   "source": [
    "#使用numpy的fuction\n",
    "\n",
    "np.max(frame,axis=0)-np.min(frame,axis=0)"
   ]
  },
  {
   "cell_type": "code",
   "execution_count": 39,
   "metadata": {},
   "outputs": [
    {
     "data": {
      "text/plain": [
       "d    1.859511\n",
       "f    4.422902\n",
       "e    0.651930\n",
       "dtype: float64"
      ]
     },
     "execution_count": 39,
     "metadata": {},
     "output_type": "execute_result"
    }
   ],
   "source": [
    "#使用dataFrame的method(實體方法)\n",
    "\n",
    "frame.max(axis=0)-frame.min(axis=0)"
   ]
  },
  {
   "cell_type": "code",
   "execution_count": 41,
   "metadata": {},
   "outputs": [
    {
     "name": "stdout",
     "output_type": "stream",
     "text": [
      "d\n",
      "f\n",
      "e\n"
     ]
    },
    {
     "data": {
      "text/plain": [
       "d    2.859511\n",
       "f    5.422902\n",
       "e    1.651930\n",
       "dtype: float64"
      ]
     },
     "execution_count": 41,
     "metadata": {},
     "output_type": "execute_result"
    }
   ],
   "source": [
    "#自訂 #利用apply 原本dataframe經過統計運算傳出一個新的dataframe 例如全班到底有多少人不及格？全部抓到新的資料夾\n",
    "\n",
    "def fun1(series):\n",
    "    print(series.name)\n",
    "    return series.max()-series.min()+1\n",
    "\n",
    "frame.apply(fun1)  #不是執行是註冊\n",
    "\n"
   ]
  },
  {
   "cell_type": "code",
   "execution_count": null,
   "metadata": {},
   "outputs": [],
   "source": []
  },
  {
   "cell_type": "code",
   "execution_count": null,
   "metadata": {},
   "outputs": [],
   "source": []
  }
 ],
 "metadata": {
  "kernelspec": {
   "display_name": "Python 3",
   "language": "python",
   "name": "python3"
  },
  "language_info": {
   "codemirror_mode": {
    "name": "ipython",
    "version": 3
   },
   "file_extension": ".py",
   "mimetype": "text/x-python",
   "name": "python",
   "nbconvert_exporter": "python",
   "pygments_lexer": "ipython3",
   "version": "3.10.13"
  }
 },
 "nbformat": 4,
 "nbformat_minor": 2
}
