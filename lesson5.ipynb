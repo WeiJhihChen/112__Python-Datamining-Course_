{
 "cells": [
  {
   "cell_type": "code",
   "execution_count": 12,
   "metadata": {},
   "outputs": [
    {
     "data": {
      "text/plain": [
       "5050"
      ]
     },
     "metadata": {},
     "output_type": "display_data"
    }
   ],
   "source": [
    "n=0\n",
    "for i in range(1,101):\n",
    "    n+=i\n",
    "display(n)"
   ]
  },
  {
   "cell_type": "code",
   "execution_count": 25,
   "metadata": {},
   "outputs": [
    {
     "name": "stdout",
     "output_type": "stream",
     "text": [
      "i=1\n",
      "j=123456789\n",
      "===============\n",
      "i=2\n",
      "j=123456789\n",
      "===============\n",
      "i=3\n",
      "j=123456789\n",
      "===============\n",
      "i=4\n",
      "j=123456789\n",
      "===============\n",
      "i=5\n",
      "j=123456789\n",
      "===============\n",
      "i=6\n",
      "j=123456789\n",
      "===============\n",
      "i=7\n",
      "j=123456789\n",
      "===============\n",
      "i=8\n",
      "j=123456789\n",
      "===============\n",
      "i=9\n",
      "j=123456789\n",
      "===============\n"
     ]
    }
   ],
   "source": [
    "for i in range(1,10):\n",
    "    print(f'i={i}') #字串插補 字串+變數，傳出一個全新的字串\n",
    "    print('j=',end='')  \n",
    "    for j in range(1,10):\n",
    "        print(f'{j}',end='')\n",
    "    print(\"\\n===============\")   "
   ]
  },
  {
   "cell_type": "code",
   "execution_count": 21,
   "metadata": {},
   "outputs": [
    {
     "name": "stdout",
     "output_type": "stream",
     "text": [
      "1 2 3 4 5 6 a\n",
      "1-2-3-4-5-6-a\n",
      "1-2-3-4-5-6?\n"
     ]
    }
   ],
   "source": [
    "print(1,2,3,4,5,6,'a')\n",
    "print(1,2,3,4,5,6,'a',sep='-')\n",
    "print(1,2,3,4,5,6,sep='-',end='?\\n')\n",
    "\n",
    "#print(*objects, sep=' ', end='\\n', file=None, flush=False)\n",
    "#*代表：沒有限定數量的引數位子呼叫\n",
    "#sep=seperate 顯示每個參數都空一格空白\n",
    "#參數有預設值的請使用引述名稱呼叫 =不要用你的預設值 #引述名稱不一定要照順序\n"
   ]
  },
  {
   "cell_type": "code",
   "execution_count": null,
   "metadata": {},
   "outputs": [],
   "source": []
  },
  {
   "cell_type": "code",
   "execution_count": null,
   "metadata": {},
   "outputs": [],
   "source": []
  },
  {
   "cell_type": "code",
   "execution_count": null,
   "metadata": {},
   "outputs": [],
   "source": []
  },
  {
   "cell_type": "code",
   "execution_count": null,
   "metadata": {},
   "outputs": [],
   "source": []
  },
  {
   "cell_type": "code",
   "execution_count": null,
   "metadata": {},
   "outputs": [],
   "source": []
  },
  {
   "cell_type": "code",
   "execution_count": null,
   "metadata": {},
   "outputs": [],
   "source": []
  },
  {
   "cell_type": "code",
   "execution_count": null,
   "metadata": {},
   "outputs": [],
   "source": []
  },
  {
   "cell_type": "code",
   "execution_count": null,
   "metadata": {},
   "outputs": [],
   "source": []
  },
  {
   "cell_type": "code",
   "execution_count": null,
   "metadata": {},
   "outputs": [],
   "source": []
  },
  {
   "cell_type": "code",
   "execution_count": null,
   "metadata": {},
   "outputs": [],
   "source": []
  },
  {
   "cell_type": "code",
   "execution_count": null,
   "metadata": {},
   "outputs": [],
   "source": []
  },
  {
   "cell_type": "code",
   "execution_count": null,
   "metadata": {},
   "outputs": [],
   "source": []
  },
  {
   "cell_type": "code",
   "execution_count": null,
   "metadata": {},
   "outputs": [],
   "source": []
  },
  {
   "cell_type": "code",
   "execution_count": null,
   "metadata": {},
   "outputs": [],
   "source": []
  },
  {
   "cell_type": "code",
   "execution_count": null,
   "metadata": {},
   "outputs": [],
   "source": []
  },
  {
   "cell_type": "code",
   "execution_count": null,
   "metadata": {},
   "outputs": [],
   "source": []
  },
  {
   "cell_type": "code",
   "execution_count": null,
   "metadata": {},
   "outputs": [],
   "source": []
  }
 ],
 "metadata": {
  "kernelspec": {
   "display_name": "Python 3",
   "language": "python",
   "name": "python3"
  },
  "language_info": {
   "codemirror_mode": {
    "name": "ipython",
    "version": 3
   },
   "file_extension": ".py",
   "mimetype": "text/x-python",
   "name": "python",
   "nbconvert_exporter": "python",
   "pygments_lexer": "ipython3",
   "version": "3.10.13"
  }
 },
 "nbformat": 4,
 "nbformat_minor": 2
}
